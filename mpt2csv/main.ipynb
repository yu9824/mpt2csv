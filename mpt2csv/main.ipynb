{
 "metadata": {
  "language_info": {
   "codemirror_mode": {
    "name": "ipython",
    "version": 3
   },
   "file_extension": ".py",
   "mimetype": "text/x-python",
   "name": "python",
   "nbconvert_exporter": "python",
   "pygments_lexer": "ipython3",
   "version": "3.7.6-final"
  },
  "orig_nbformat": 2,
  "kernelspec": {
   "name": "Python 3.7.6 64-bit ('py37': conda)",
   "display_name": "Python 3.7.6 64-bit ('py37': conda)",
   "metadata": {
    "interpreter": {
     "hash": "7d6386d0aa921c623506802491c7c614471c4957172b5f532021068336e6a2a9"
    }
   }
  }
 },
 "nbformat": 4,
 "nbformat_minor": 2,
 "cells": [
  {
   "cell_type": "code",
   "execution_count": 13,
   "metadata": {},
   "outputs": [],
   "source": [
    "import pandas as pd\n",
    "import os\n",
    "import re"
   ]
  },
  {
   "cell_type": "code",
   "execution_count": 3,
   "metadata": {},
   "outputs": [],
   "source": [
    "path_dir = os.path.dirname(os.path.abspath('__file__'))\n",
    "path_example_data = os.path.abspath(os.path.join(path_dir, '../example/data'))"
   ]
  },
  {
   "cell_type": "code",
   "execution_count": 4,
   "metadata": {},
   "outputs": [],
   "source": [
    "path_inputs = [os.path.join(path_example_data, f) for f in os.listdir(path_example_data) if '.mpt' in f]"
   ]
  },
  {
   "cell_type": "code",
   "execution_count": 39,
   "metadata": {
    "tags": []
   },
   "outputs": [
    {
     "output_type": "stream",
     "name": "stdout",
     "text": [
      "2\n"
     ]
    }
   ],
   "source": [
    "def chomp_split(str_):\n",
    "    return [cell for cell in str_.replace('\\n', '').split('\\t') if cell != '']\n",
    "\n",
    "key_start = 'Nb header lines\\s?:\\s?(\\d+)'\n",
    "key_loops = 'Number of loops\\s?:\\s?(\\d+)'\n",
    "\n",
    "d_output = {}\n",
    "for file in path_inputs:\n",
    "    # mptファイルを読む\n",
    "    with open(file) as f:\n",
    "        raw = f.read()\n",
    "\n",
    "    # 導電率に関する情報が書かれ始める行番号を取得    \n",
    "    num_start = int(re.search(key_start, raw).groups()[0])\n",
    "\n",
    "    # いくつの測定データが入ってるかについて何行目 (num_line_loops) に書いてあるか，またそのデータの数 (num_loops) はいくつか．\n",
    "    m = re.search(key_loops, raw)\n",
    "    num_loops = int(m.groups()[0])\n",
    "    num_line_loops = raw[:m.start()].count('\\n') + 1\n",
    "\n",
    "    lines = raw.split('\\n') # 使いやすく改行ごとにリスト化\n",
    "    df = pd.DataFrame(map(chomp_split, lines[num_start:]), columns = chomp_split(lines[num_start-1]))\n",
    "\n",
    "    i = 0\n",
    "    range_ = []\n",
    "    while i < num_loops:\n",
    "        s = re.search('(\\d+)\\s?to\\s?(\\d+)', lines[num_line_loops+i])\n",
    "        range_.append(list(map(int, s.groups())))\n",
    "        i += 1\n",
    "    \n",
    "    dfs = []\n",
    "    for l, r in range_:\n",
    "        dfs.append(df.iloc[l:r+1].reset_index(drop = True))\n",
    "    \n",
    "    d_output[file] = dfs\n",
    "print(d_output)\n",
    "        \n",
    "            "
   ]
  },
  {
   "cell_type": "code",
   "execution_count": null,
   "metadata": {},
   "outputs": [],
   "source": []
  }
 ]
}